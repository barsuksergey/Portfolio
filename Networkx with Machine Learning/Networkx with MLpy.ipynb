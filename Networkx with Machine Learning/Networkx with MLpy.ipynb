  {
   "cell_type": "markdown",
   "metadata": {},
   "source": [
    "---\n",
    "\n",
    "## Company Emails\n",
    "\n",
    "This is a company's email network where each node corresponds to a person at the company, and each edge indicates that at least one email has been sent between two people.\n",
    "\n",
    "The network also contains the node attributes `Department` and `ManagementSalary`.\n",
    "\n",
    "`Department` indicates the department in the company which the person belongs to, and `ManagementSalary` indicates whether that person is receiving a management position salary."
   ]
  },
  {
   "cell_type": "code",
   "execution_count": 7,
   "metadata": {
    "scrolled": false
   },
   "outputs": [],
   "source": [
    "import networkx as nx\n",
    "import pandas as pd\n",
    "import numpy as np\n",
    "import pickle\n",
    "\n",
    "%matplotlib notebook\n",
    "G = nx.read_gpickle('email_prediction.txt')\n",
    "\n",
    "# nx.info(G)\n",
    "# G.nodes(data=True)"
   ]
  },
  {
   "cell_type": "markdown",
   "metadata": {},
   "source": [
    "### Salary Prediction\n",
    "\n",
    "Identifing the people in the network with missing values for the node attribute `ManagementSalary` and predicting whether or not these individuals are receiving a management position salary.\n",
    "\n",
    "I created a matrix of node features using networkx and trained a sklearn classifier on nodes that have `ManagementSalary` data to predict a probability of the node receiving a management salary for nodes where `ManagementSalary` is nan."
   ]
  },
  {
   "cell_type": "code",
   "execution_count": 17,
   "metadata": {},
   "outputs": [
    {
     "data": {
      "text/plain": [
       "0.79565832940066072"
      ]
     },
     "execution_count": 17,
     "metadata": {},
     "output_type": "execute_result"
    }
   ],
   "source": [
    "from sklearn.linear_model import LogisticRegression\n",
    "from sklearn.svm import SVC\n",
    "from sklearn.ensemble import RandomForestClassifier\n",
    "from sklearn.ensemble import GradientBoostingClassifier\n",
    "from sklearn.preprocessing import MinMaxScaler\n",
    "from sklearn.model_selection import train_test_split\n",
    "from sklearn.metrics import roc_auc_score\n",
    "\n",
    "\n",
    "def salary_predictions():\n",
    "    # Your Code Here\n",
    "    df = pd.DataFrame(index = G.nodes())\n",
    "    df['ManagementSalary'] = pd.Series(nx.get_node_attributes(G,'ManagementSalary'))\n",
    "\n",
    "    # df['dep'] = pd.Series(nx.get_node_attributes(G,'Department'))\n",
    "    df['deg'] = pd.Series(G.degree())\n",
    "    df['clust'] = pd.Series(nx.clustering(G))\n",
    "    df['deg_cent'] = pd.Series(nx.degree_centrality(G))\n",
    "    df['close_cent'] = pd.Series(nx.closeness_centrality(G))\n",
    "    df['between_cent'] = pd.Series(nx.betweenness_centrality(G, normalized = True))\n",
    "    df['pr'] = pd.Series(nx.pagerank(G))\n",
    "    df['auth'] = pd.Series(nx.hits(G)[1])\n",
    "    # df['hub'] = pd.Series(nx.hits(G)[0])\n",
    "    features = ['deg','clust','deg_cent', 'close_cent', 'between_cent', 'pr', 'auth']\n",
    "\n",
    "    df_mgmt = df[np.isnan(df['ManagementSalary']) == True]\n",
    "    df.dropna(inplace=True)\n",
    "\n",
    "    X = df[features]\n",
    "    y = df['ManagementSalary']\n",
    "    X_train, X_test, y_train, y_test = train_test_split(X, y, random_state=42)\n",
    "    scaler = MinMaxScaler()\n",
    "    X_train_scaled = scaler.fit_transform(X_train)\n",
    "    X_test_scaled = scaler.fit_transform(X_test)\n",
    "    \n",
    "#     X_train = df[features]\n",
    "#     y_train = df['ManagementSalary']\n",
    "#     X_test = df_mgmt[features]\n",
    "#     scaler = MinMaxScaler()\n",
    "#     X_train_scaled = scaler.fit_transform(X_train)\n",
    "#     X_test_scaled = scaler.fit_transform(X_test)\n",
    "    \n",
    "\n",
    "    clf = RandomForestClassifier(max_depth=5, criterion='entropy', random_state=0).fit(X_train_scaled, y_train)\n",
    "#     y_scores = clf.predict_proba(X_test_scaled)[:, 1]\n",
    "    y_scores = clf.predict(X_test_scaled)\n",
    "    return roc_auc_score(y_test, y_scores)  #pd.Series(y_scores, index = X_test.index) # Your Answer Here\n",
    "\n",
    "salary_predictions()"
   ]
  },
  {
   "cell_type": "markdown",
   "metadata": {},
   "source": [
    "### New Connections Prediction\n",
    "\n",
    "Predicting future connections between employees of the network. The future connections information has been loaded into the variable `future_connections`. The index is a tuple indicating a pair of nodes that currently do not have a connection, and the `Future Connection` column indicates if an edge between those two nodes will exist in the future, where a value of 1.0 indicates a future connection."
   ]
  },
  {
   "cell_type": "code",
   "execution_count": 19,
   "metadata": {},
   "outputs": [
    {
     "data": {
      "text/html": [
       "<div>\n",
       "<style>\n",
       "    .dataframe thead tr:only-child th {\n",
       "        text-align: right;\n",
       "    }\n",
       "\n",
       "    .dataframe thead th {\n",
       "        text-align: left;\n",
       "    }\n",
       "\n",
       "    .dataframe tbody tr th {\n",
       "        vertical-align: top;\n",
       "    }\n",
       "</style>\n",
       "<table border=\"1\" class=\"dataframe\">\n",
       "  <thead>\n",
       "    <tr style=\"text-align: right;\">\n",
       "      <th></th>\n",
       "      <th>Future Connection</th>\n",
       "    </tr>\n",
       "  </thead>\n",
       "  <tbody>\n",
       "    <tr>\n",
       "      <th>(6, 840)</th>\n",
       "      <td>0.0</td>\n",
       "    </tr>\n",
       "    <tr>\n",
       "      <th>(4, 197)</th>\n",
       "      <td>0.0</td>\n",
       "    </tr>\n",
       "    <tr>\n",
       "      <th>(620, 979)</th>\n",
       "      <td>0.0</td>\n",
       "    </tr>\n",
       "    <tr>\n",
       "      <th>(519, 872)</th>\n",
       "      <td>0.0</td>\n",
       "    </tr>\n",
       "    <tr>\n",
       "      <th>(382, 423)</th>\n",
       "      <td>0.0</td>\n",
       "    </tr>\n",
       "    <tr>\n",
       "      <th>(97, 226)</th>\n",
       "      <td>1.0</td>\n",
       "    </tr>\n",
       "    <tr>\n",
       "      <th>(349, 905)</th>\n",
       "      <td>0.0</td>\n",
       "    </tr>\n",
       "    <tr>\n",
       "      <th>(429, 860)</th>\n",
       "      <td>0.0</td>\n",
       "    </tr>\n",
       "    <tr>\n",
       "      <th>(309, 989)</th>\n",
       "      <td>0.0</td>\n",
       "    </tr>\n",
       "    <tr>\n",
       "      <th>(468, 880)</th>\n",
       "      <td>0.0</td>\n",
       "    </tr>\n",
       "  </tbody>\n",
       "</table>\n",
       "</div>"
      ],
      "text/plain": [
       "            Future Connection\n",
       "(6, 840)                  0.0\n",
       "(4, 197)                  0.0\n",
       "(620, 979)                0.0\n",
       "(519, 872)                0.0\n",
       "(382, 423)                0.0\n",
       "(97, 226)                 1.0\n",
       "(349, 905)                0.0\n",
       "(429, 860)                0.0\n",
       "(309, 989)                0.0\n",
       "(468, 880)                0.0"
      ]
     },
     "execution_count": 19,
     "metadata": {},
     "output_type": "execute_result"
    }
   ],
   "source": [
    "future_connections = pd.read_csv('Future_Connections.csv', index_col=0, converters={0: eval})\n",
    "future_connections.head(10)"
   ]
  },
  {
   "cell_type": "markdown",
   "metadata": {},
   "source": [
    "I identified the edges in `future_connections` with missing values and predicted whether or not these edges will have a future connection.\n",
    "\n",
    "I created a matrix of features for the edges found in `future_connections` using networkx, trained a sklearn classifier on those edges in `future_connections` that have `Future Connection` data, and predicted a probability of the edge being a future connection for those edges in `future_connections` where `Future Connection` is missing."
   ]
  },
  {
   "cell_type": "code",
   "execution_count": 155,
   "metadata": {},
   "outputs": [
    {
     "data": {
      "text/plain": [
       "(0, 9)          0.043703\n",
       "(0, 19)         0.149493\n",
       "(0, 20)         0.599208\n",
       "(0, 35)         0.021548\n",
       "(0, 38)         0.012658\n",
       "(0, 42)         0.995069\n",
       "(0, 43)         0.014883\n",
       "(0, 50)         0.012658\n",
       "(0, 53)         0.863555\n",
       "(0, 54)         0.082162\n",
       "(0, 62)         0.978024\n",
       "(0, 63)         0.134842\n",
       "(0, 69)         0.035361\n",
       "(0, 72)         0.012658\n",
       "(0, 83)         0.288318\n",
       "(0, 90)         0.041228\n",
       "(0, 91)         0.017593\n",
       "(0, 95)         0.244581\n",
       "(0, 100)        0.043703\n",
       "(0, 106)        0.999871\n",
       "(0, 108)        0.014504\n",
       "(0, 109)        0.012658\n",
       "(0, 110)        0.012658\n",
       "(0, 118)        0.012658\n",
       "(0, 122)        0.039417\n",
       "(0, 131)        0.060457\n",
       "(0, 133)        0.975780\n",
       "(0, 140)        0.194958\n",
       "(0, 149)        0.228892\n",
       "(0, 151)        0.012658\n",
       "                  ...   \n",
       "(988, 989)      0.012658\n",
       "(988, 996)      0.012658\n",
       "(988, 997)      0.078845\n",
       "(988, 1000)     0.012658\n",
       "(988, 1002)     0.012658\n",
       "(989, 994)      0.012658\n",
       "(989, 996)      0.012658\n",
       "(989, 1003)     0.012658\n",
       "(989, 1004)     0.012658\n",
       "(990, 994)      0.012658\n",
       "(990, 998)      0.017782\n",
       "(991, 994)      0.012658\n",
       "(991, 999)      0.012658\n",
       "(991, 1003)     0.012658\n",
       "(992, 994)      0.012658\n",
       "(992, 995)      0.012658\n",
       "(992, 997)      0.012658\n",
       "(992, 1000)     0.012658\n",
       "(993, 1000)     0.012658\n",
       "(994, 996)      0.012658\n",
       "(995, 998)      0.012658\n",
       "(995, 1000)     0.012658\n",
       "(996, 997)      0.012658\n",
       "(997, 998)      0.012658\n",
       "(997, 1004)     0.012658\n",
       "(998, 999)      0.012658\n",
       "(1000, 1002)    0.012658\n",
       "(1000, 1003)    0.012658\n",
       "(1000, 1004)    0.012658\n",
       "(1001, 1002)    0.012658\n",
       "Length: 122112, dtype: float64"
      ]
     },
     "execution_count": 155,
     "metadata": {},
     "output_type": "execute_result"
    }
   ],
   "source": [
    "from sklearn.linear_model import LogisticRegression\n",
    "from sklearn.svm import SVC\n",
    "from sklearn.ensemble import RandomForestClassifier\n",
    "from sklearn.preprocessing import MinMaxScaler\n",
    "from sklearn.model_selection import train_test_split\n",
    "from sklearn.metrics import roc_auc_score\n",
    "from sklearn.ensemble import GradientBoostingClassifier\n",
    "\n",
    "\n",
    "def new_connections_predictions():\n",
    "    # Your Code Here\n",
    "    jc = list(nx.jaccard_coefficient(G))\n",
    "    jc_df = pd.DataFrame([[(jc[x][0], jc[x][1]), jc[x][2]] for x in range(len(jc))], columns=['index','jc'])\n",
    "    jc_df = jc_df.set_index('index')\n",
    "    # ra = list(nx.resource_allocation_index(G))\n",
    "    # ra_df = pd.DataFrame([[(ra[x][0], ra[x][1]), ra[x][2]] for x in range(len(ra))], columns=['index','ra'])\n",
    "    # ra_df = ra_df.set_index('index')\n",
    "    # pa = list(nx.preferential_attachment(G))\n",
    "    # pa_df = pd.DataFrame([[(pa[x][0], pa[x][1]), pa[x][2]] for x in range(len(pa))], columns=['index','pa'])\n",
    "    # pa_df = pa_df.set_index('index')\n",
    "    # aa = list(nx.preferential_attachment(G))\n",
    "    # aa_df = pd.DataFrame([[(aa[x][0], aa[x][1]), aa[x][2]] for x in range(len(aa))], columns=['index','aa'])\n",
    "    # aa_df = aa_df.set_index('index')\n",
    "\n",
    "    for node in G.nodes():\n",
    "        G.node[node]['community'] = G.node[node]['Department']\n",
    "    cn = list(nx.cn_soundarajan_hopcroft(G))\n",
    "    cn_df = pd.DataFrame([[(cn[x][0], cn[x][1]), cn[x][2]] for x in range(len(cn))], columns=['index','cn'])\n",
    "    cn_df = cn_df.set_index('index')\n",
    "\n",
    "    # df = future_connections.join(jc_df,how='outer').join(ra_df,how='outer').join(pa_df,how='outer').join(cn_df,how='outer')\n",
    "    # features = ['jc','ra','pa', 'cn']\n",
    "\n",
    "    df = future_connections.join(jc_df,how='outer').join(cn_df,how='outer')\n",
    "    features = ['jc', 'cn']\n",
    "    edgy_df = df[np.isnan(df['Future Connection']) == True]\n",
    "    df.dropna(inplace=True)\n",
    "    \n",
    "    # X = df[features]\n",
    "    # y = df['Future Connection']\n",
    "    # X_train, X_test, y_train, y_test = train_test_split(X, y, random_state=42)\n",
    "    # scaler = MinMaxScaler()\n",
    "    # X_train_scaled = scaler.fit_transform(X_train)\n",
    "    # X_test_scaled = scaler.fit_transform(X_test)\n",
    "\n",
    "    X_train = df[features]\n",
    "    y_train = df['Future Connection']\n",
    "    X_test = edgy_df[features]\n",
    "    scaler = MinMaxScaler()\n",
    "    X_train_scaled = scaler.fit_transform(X_train)\n",
    "    X_test_scaled = scaler.fit_transform(X_test)\n",
    "    \n",
    "    clf = RandomForestClassifier(max_depth=10, criterion='entropy', random_state=0).fit(X_train_scaled, y_train)\n",
    "    y_scores = clf.predict_proba(X_test_scaled)[:, 1]\n",
    "#     y_scores = clf.predict(X_test_scaled)\n",
    "    return pd.Series(y_scores, index=X_test.index) # Your Answer Here\n",
    "\n",
    "new_connections_predictions()"
   ]
  },
  {
   "cell_type": "code",
   "execution_count": 38,
   "metadata": {
    "collapsed": true
   },
   "outputs": [],
   "source": [
    "# clf = RandomForestClassifier(max_depth=10, criterion='entropy', random_state=0).fit(X_train_scaled, y_train) #0.80279\n",
    "# clf = LogisticRegression().fit(X_train_scaled, y_train)\n",
    "# clf = GradientBoostingClassifier(max_depth=9).fit(X_train_scaled, y_train) #0.80409\n",
    "# y_scores = clf.predict(X_test_scaled)\n",
    "# roc_auc_score(y_test, y_scores)"
   ]
  },
  {
   "cell_type": "code",
   "execution_count": 8,
   "metadata": {},
   "outputs": [],
   "source": [
    "# model = LogisticRegression()\n",
    "# grid = GridSearchCV(estimator=model,\n",
    "#              param_grid={'C': [1, 10, 100, 1000]})\n",
    "# grid.fit(X_train_scaled, y_train)\n",
    "# grid.best_estimator_.C"
   ]
  },
  {
   "cell_type": "code",
   "execution_count": 132,
   "metadata": {
    "collapsed": true
   },
   "outputs": [],
   "source": []
  },
  {
   "cell_type": "code",
   "execution_count": 133,
   "metadata": {
    "collapsed": true
   },
   "outputs": [],
   "source": []
  },
  {
   "cell_type": "code",
   "execution_count": 141,
   "metadata": {},
   "outputs": [
    {
     "data": {
      "text/plain": [
       "pandas.core.series.Series"
      ]
     },
     "execution_count": 141,
     "metadata": {},
     "output_type": "execute_result"
    }
   ],
   "source": []
  },
  {
   "cell_type": "code",
   "execution_count": null,
   "metadata": {
    "collapsed": true
   },
   "outputs": [],
   "source": []
  }
 ],
 "metadata": {
  "coursera": {
   "course_slug": "python-social-network-analysis",
   "graded_item_id": "BGNwe",
   "launcher_item_id": "rMoj0",
   "part_id": "E2zRG"
  },
  "kernelspec": {
   "display_name": "Python 3",
   "language": "python",
   "name": "python3"
  },
  "language_info": {
   "codemirror_mode": {
    "name": "ipython",
    "version": 3
   },
   "file_extension": ".py",
   "mimetype": "text/x-python",
   "name": "python",
   "nbconvert_exporter": "python",
   "pygments_lexer": "ipython3",
   "version": "3.7.4"
  }
 },
 "nbformat": 4,
 "nbformat_minor": 2
}
