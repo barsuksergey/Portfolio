{
 "cells": [
  {
   "cell_type": "markdown",
   "metadata": {},
   "source": [
    "## Spelling Recommender\n",
    "\n",
    "For every misspelled word, the recommender finds the word in `correct_spellings` that has the shortest distance*, and starts with the same letter as the misspelled word, and return that word as a recommendation.\n",
    "\n",
    "Each of the recommenders should provide recommendations for the three default words provided: `['cormulent', 'incendenece', 'validrate']`."
   ]
  },
  {
   "cell_type": "code",
   "execution_count": 2,
   "metadata": {},
   "outputs": [],
   "source": [
    "import nltk\n",
    "import pandas as pd\n",
    "import numpy as np\n",
    "from nltk.corpus import words\n",
    "\n",
    "correct_spellings = words.words()"
   ]
  },
  {
   "cell_type": "markdown",
   "metadata": {},
   "source": [
    "**[Jaccard distance](https://en.wikipedia.org/wiki/Jaccard_index) on the trigrams of the two words.**"
   ]
  },
  {
   "cell_type": "code",
   "execution_count": 11,
   "metadata": {},
   "outputs": [
    {
     "name": "stderr",
     "output_type": "stream",
     "text": [
      "/opt/conda/lib/python3.6/site-packages/ipykernel_launcher.py:11: DeprecationWarning: generator 'ngrams' raised StopIteration\n",
      "  # This is added back by InteractiveShellApp.init_path()\n",
      "/opt/conda/lib/python3.6/site-packages/ipykernel_launcher.py:13: DeprecationWarning: generator 'ngrams' raised StopIteration\n",
      "  del sys.path[0]\n",
      "/opt/conda/lib/python3.6/site-packages/ipykernel_launcher.py:15: DeprecationWarning: generator 'ngrams' raised StopIteration\n",
      "  from ipykernel import kernelapp as app\n"
     ]
    },
    {
     "data": {
      "text/plain": [
       "['corpulent', 'indecence', 'validate']"
      ]
     },
     "execution_count": 11,
     "metadata": {},
     "output_type": "execute_result"
    }
   ],
   "source": [
    "from nltk.metrics.distance import jaccard_distance\n",
    "from nltk.util import ngrams\n",
    "from nltk.metrics.distance  import edit_distance\n",
    "\n",
    "def answer_nine(entries=['cormulent', 'incendenece', 'validrate']):\n",
    "    \n",
    "    first_letters = [l[0] for l in entries]\n",
    "    cormulent_reccomendation = sorted([(jaccard_distance(set(ngrams(entries[0], 3)), set(ngrams(c, 3))), c) for c in \n",
    "                                      [w for w in correct_spellings if w[0] == first_letters[0]]])[0][1]\n",
    "    incendenece_reccomendation = sorted([(jaccard_distance(set(ngrams(entries[1], 3)), set(ngrams(i, 3))), i) for i in \n",
    "                                        [w for w in correct_spellings if w[0] == first_letters[1]]])[0][1]\n",
    "    validrate_reccomendation = sorted([(jaccard_distance(set(ngrams(entries[2], 3)), set(ngrams(v, 3))), v) for v in \n",
    "                                      [w for w in correct_spellings if w[0] == first_letters[2]]])[0][1]\n",
    "    \n",
    "    return [cormulent_reccomendation, incendenece_reccomendation, validrate_reccomendation] # Your answer here\n",
    "    \n",
    "answer_nine()"
   ]
  },
  {
   "cell_type": "markdown",
   "metadata": {},
   "source": [
    "**[Jaccard distance](https://en.wikipedia.org/wiki/Jaccard_index) on the 4-grams of the two words.**"
   ]
  },
  {
   "cell_type": "code",
   "execution_count": 13,
   "metadata": {},
   "outputs": [
    {
     "name": "stderr",
     "output_type": "stream",
     "text": [
      "/opt/conda/lib/python3.6/site-packages/ipykernel_launcher.py:4: DeprecationWarning: generator 'ngrams' raised StopIteration\n",
      "  after removing the cwd from sys.path.\n",
      "/opt/conda/lib/python3.6/site-packages/ipykernel_launcher.py:6: DeprecationWarning: generator 'ngrams' raised StopIteration\n",
      "  \n",
      "/opt/conda/lib/python3.6/site-packages/ipykernel_launcher.py:8: DeprecationWarning: generator 'ngrams' raised StopIteration\n",
      "  \n"
     ]
    },
    {
     "data": {
      "text/plain": [
       "['cormus', 'incendiary', 'valid']"
      ]
     },
     "execution_count": 13,
     "metadata": {},
     "output_type": "execute_result"
    }
   ],
   "source": [
    "def answer_ten(entries=['cormulent', 'incendenece', 'validrate']):\n",
    "    \n",
    "    first_letters = [l[0] for l in entries]\n",
    "    cormulent_reccomendation = sorted([(jaccard_distance(set(ngrams(entries[0], 4)), set(ngrams(c, 4))), c) for c in \n",
    "                                      [w for w in correct_spellings if w[0] == first_letters[0]]])[0][1]\n",
    "    incendenece_reccomendation = sorted([(jaccard_distance(set(ngrams(entries[1], 4)), set(ngrams(i, 4))), i) for i in \n",
    "                                        [w for w in correct_spellings if w[0] == first_letters[1]]])[0][1]\n",
    "    validrate_reccomendation = sorted([(jaccard_distance(set(ngrams(entries[2], 4)), set(ngrams(v, 4))), v) for v in \n",
    "                                      [w for w in correct_spellings if w[0] == first_letters[2]]])[0][1]\n",
    "    \n",
    "    return [cormulent_reccomendation, incendenece_reccomendation, validrate_reccomendation] # Your answer here\n",
    "    \n",
    "answer_ten()"
   ]
  },
  {
   "cell_type": "markdown",
   "metadata": {},
   "source": [
    "**[Edit distance on the two words with transpositions.](https://en.wikipedia.org/wiki/Damerau%E2%80%93Levenshtein_distance)**"
   ]
  },
  {
   "cell_type": "code",
   "execution_count": 20,
   "metadata": {},
   "outputs": [
    {
     "data": {
      "text/plain": [
       "['corpulent', 'intendence', 'validate']"
      ]
     },
     "execution_count": 20,
     "metadata": {},
     "output_type": "execute_result"
    }
   ],
   "source": [
    "def answer_eleven(entries=['cormulent', 'incendenece', 'validrate']):\n",
    "    first_letters = [l[0] for l in entries]\n",
    "    cormulent_reccomendation = sorted([(edit_distance(entries[0], c), c) for c in \n",
    "                                      [w for w in correct_spellings if w[0] == first_letters[0]]])[0][1]\n",
    "    incendenece_reccomendation = sorted([(edit_distance(entries[1], i), i) for i in \n",
    "                                      [w for w in correct_spellings if w[0] == first_letters[1]]])[0][1]\n",
    "    validrate_reccomendation = sorted([(edit_distance(entries[2], v), v) for v in \n",
    "                                      [w for w in correct_spellings if w[0] == first_letters[2]]])[0][1]\n",
    "    \n",
    "    return [cormulent_reccomendation, incendenece_reccomendation, validrate_reccomendation] # Your answer here \n",
    "    \n",
    "answer_eleven()"
   ]
  },
  {
   "cell_type": "code",
   "execution_count": null,
   "metadata": {
    "collapsed": true
   },
   "outputs": [],
   "source": []
  }
 ],
 "metadata": {
  "coursera": {
   "course_slug": "python-text-mining",
   "graded_item_id": "r35En",
   "launcher_item_id": "tCVfW",
   "part_id": "NTVgL"
  },
  "kernelspec": {
   "display_name": "Python 3",
   "language": "python",
   "name": "python3"
  },
  "language_info": {
   "codemirror_mode": {
    "name": "ipython",
    "version": 3
   },
   "file_extension": ".py",
   "mimetype": "text/x-python",
   "name": "python",
   "nbconvert_exporter": "python",
   "pygments_lexer": "ipython3",
   "version": "3.7.4"
  }
 },
 "nbformat": 4,
 "nbformat_minor": 2
}
